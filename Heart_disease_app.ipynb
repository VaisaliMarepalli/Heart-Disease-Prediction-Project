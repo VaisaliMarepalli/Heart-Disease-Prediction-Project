{
 "cells": [
  {
   "cell_type": "code",
   "execution_count": 1,
   "id": "62d0d6ac-301a-4a2c-af28-d0a2f8a55293",
   "metadata": {},
   "outputs": [],
   "source": [
    "import streamlit as st\n",
    "import pandas as pd\n",
    "import numpy as np\n",
    "import joblib\n",
    "from sklearn.ensemble import RandomForestClassifier"
   ]
  },
  {
   "cell_type": "code",
   "execution_count": 2,
   "id": "7e2eab77-cf2f-4420-8ad4-b04402ee1b6f",
   "metadata": {},
   "outputs": [],
   "source": [
    "model = joblib.load(\"heart_disease_model.pkl\")"
   ]
  },
  {
   "cell_type": "code",
   "execution_count": 3,
   "id": "5a2ee860-8afc-46dc-96c9-da5dbb9a2a7a",
   "metadata": {},
   "outputs": [
    {
     "name": "stderr",
     "output_type": "stream",
     "text": [
      "2025-09-13 15:38:35.576 \n",
      "  \u001b[33m\u001b[1mWarning:\u001b[0m to view this Streamlit app on a browser, run it with the following\n",
      "  command:\n",
      "\n",
      "    streamlit run D:\\Python\\Lib\\site-packages\\ipykernel_launcher.py [ARGUMENTS]\n"
     ]
    }
   ],
   "source": [
    "st.set_page_config(page_title=\"Heart Disease Prediction App\", page_icon=\"❤️\", layout=\"centered\")\n",
    "\n",
    "st.title(\"❤️ Heart Disease Prediction App\")\n",
    "st.write(\"Enter patient details below and get a quick prediction.\")"
   ]
  },
  {
   "cell_type": "code",
   "execution_count": 4,
   "id": "a1983beb-33d6-413c-86ad-90cd0af4f4ac",
   "metadata": {},
   "outputs": [],
   "source": [
    "# 2. Create Input Fields"
   ]
  },
  {
   "cell_type": "code",
   "execution_count": 5,
   "id": "297a38de-c1a0-4eee-beec-b4615eccc979",
   "metadata": {},
   "outputs": [],
   "source": [
    "col1, col2 = st.columns(2)\n",
    "\n",
    "with col1:\n",
    "    age = st.number_input(\"Age\", min_value=20, max_value=100, value=None)\n",
    "    sex = st.selectbox(\"Sex\", options=[0, 1], format_func=lambda x: \"Male\" if x == 1 else \"Female\")\n",
    "    cp = st.selectbox(\"Chest Pain Type (cp)\", options=[0, 1, 2, 3])\n",
    "    trestbps = st.number_input(\"Resting Blood Pressure (trestbps)\", min_value=80, max_value=200, value=None)\n",
    "    chol = st.number_input(\"Serum Cholesterol (chol)\", min_value=100, max_value=600, value=None)\n",
    "    fbs = st.selectbox(\"Fasting Blood Sugar > 120 mg/dl (fbs)\", options=[0, 1], format_func=lambda x: \"Yes\" if x == 1 else \"No\")\n",
    "\n",
    "with col2:\n",
    "    restecg = st.selectbox(\"Resting ECG Results (restecg)\", options=[0, 1, 2])\n",
    "    thalach = st.number_input(\"Maximum Heart Rate (thalach)\", min_value=70, max_value=220, value=None)\n",
    "    exang = st.selectbox(\"Exercise Induced Angina (exang)\", options=[0, 1], format_func=lambda x: \"Yes\" if x == 1 else \"No\")\n",
    "    oldpeak = st.number_input(\"ST Depression (oldpeak)\", min_value=0.0, max_value=6.0, value=None, step=0.1)\n",
    "    slope = st.selectbox(\"Slope of ST Segment (slope)\", options=[0, 1, 2])\n",
    "    ca = st.selectbox(\"Number of Major Vessels (ca)\", options=[0, 1, 2, 3, 4])\n",
    "    thal = st.selectbox(\"Thalassemia (thal)\", options=[0, 1, 2, 3])"
   ]
  },
  {
   "cell_type": "code",
   "execution_count": 6,
   "id": "3d7fcfc9-b4b6-4cd6-a5b6-1881b5155ab8",
   "metadata": {},
   "outputs": [],
   "source": [
    "# 3. Make Prediction"
   ]
  },
  {
   "cell_type": "code",
   "execution_count": 7,
   "id": "e4d0d9da-c949-4001-a13d-97d98f0587ba",
   "metadata": {},
   "outputs": [
    {
     "data": {
      "text/plain": [
       "DeltaGenerator()"
      ]
     },
     "execution_count": 7,
     "metadata": {},
     "output_type": "execute_result"
    }
   ],
   "source": [
    "if st.button(\"🔍 Predict\"):\n",
    "    input_data = np.array([[age, sex, cp, trestbps, chol, fbs, restecg, thalach,\n",
    "                            exang, oldpeak, slope, ca, thal]])\n",
    "    prediction = model.predict(input_data)[0]\n",
    "\n",
    "    if prediction == 1:\n",
    "        st.error(\"⚠️ The model predicts **Heart Disease (Positive)**. Please consult a doctor.\")\n",
    "    else:\n",
    "        st.success(\"✅ The model predicts **No Heart Disease (Negative)**. You seem safe!\")\n",
    "\n",
    "st.write(\"---\")\n",
    "st.caption(\"Powered by Machine Learning | Built with Streamlit\")"
   ]
  },
  {
   "cell_type": "code",
   "execution_count": null,
   "id": "d9c87e40-a1db-47ee-b06b-037452221232",
   "metadata": {},
   "outputs": [],
   "source": []
  }
 ],
 "metadata": {
  "kernelspec": {
   "display_name": "Python 3 (ipykernel)",
   "language": "python",
   "name": "python3"
  },
  "language_info": {
   "codemirror_mode": {
    "name": "ipython",
    "version": 3
   },
   "file_extension": ".py",
   "mimetype": "text/x-python",
   "name": "python",
   "nbconvert_exporter": "python",
   "pygments_lexer": "ipython3",
   "version": "3.12.3"
  }
 },
 "nbformat": 4,
 "nbformat_minor": 5
}
