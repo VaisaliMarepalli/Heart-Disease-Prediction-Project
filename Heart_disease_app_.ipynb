{
 "cells": [
  {
   "cell_type": "code",
   "execution_count": 1,
   "id": "62d0d6ac-301a-4a2c-af28-d0a2f8a55293",
   "metadata": {},
   "outputs": [],
   "source": [
    "import streamlit as st\n",
    "import pandas as pd\n",
    "import numpy as np\n",
    "import joblib\n",
    "from sklearn.ensemble import RandomForestClassifier"
   ]
  },
  {
   "cell_type": "code",
   "execution_count": 2,
   "id": "7e2eab77-cf2f-4420-8ad4-b04402ee1b6f",
   "metadata": {},
   "outputs": [],
   "source": [
    "model = joblib.load(\"heart_disease_model.pkl\")"
   ]
  },
  {
   "cell_type": "code",
   "execution_count": 3,
   "id": "5a2ee860-8afc-46dc-96c9-da5dbb9a2a7a",
   "metadata": {},
   "outputs": [
    {
     "name": "stderr",
     "output_type": "stream",
     "text": [
      "2025-09-13 15:02:50.702 \n",
      "  \u001b[33m\u001b[1mWarning:\u001b[0m to view this Streamlit app on a browser, run it with the following\n",
      "  command:\n",
      "\n",
      "    streamlit run D:\\Python\\Lib\\site-packages\\ipykernel_launcher.py [ARGUMENTS]\n"
     ]
    }
   ],
   "source": [
    "st.set_page_config(page_title=\"Heart Disease Prediction App\", page_icon=\"❤️\", layout=\"centered\")\n",
    "\n",
    "st.title(\"❤️ Heart Disease Prediction App\")\n",
    "st.write(\"Enter patient details below and get a quick prediction.\")"
   ]
  },
  {
   "cell_type": "code",
   "execution_count": 4,
   "id": "a1983beb-33d6-413c-86ad-90cd0af4f4ac",
   "metadata": {},
   "outputs": [],
   "source": [
    "# 2. Create Input Fields"
   ]
  },
  {
   "cell_type": "code",
   "execution_count": 8,
   "id": "297a38de-c1a0-4eee-beec-b4615eccc979",
   "metadata": {},
   "outputs": [
    {
     "ename": "TypeError",
     "evalue": "SelectboxMixin.selectbox() got an unexpected keyword argument 'value'",
     "output_type": "error",
     "traceback": [
      "\u001b[1;31m---------------------------------------------------------------------------\u001b[0m",
      "\u001b[1;31mTypeError\u001b[0m                                 Traceback (most recent call last)",
      "Cell \u001b[1;32mIn[8], line 5\u001b[0m\n\u001b[0;32m      3\u001b[0m \u001b[38;5;28;01mwith\u001b[39;00m col1:\n\u001b[0;32m      4\u001b[0m     age \u001b[38;5;241m=\u001b[39m st\u001b[38;5;241m.\u001b[39mnumber_input(\u001b[38;5;124m\"\u001b[39m\u001b[38;5;124mAge\u001b[39m\u001b[38;5;124m\"\u001b[39m, min_value\u001b[38;5;241m=\u001b[39m\u001b[38;5;241m20\u001b[39m, max_value\u001b[38;5;241m=\u001b[39m\u001b[38;5;241m100\u001b[39m, value\u001b[38;5;241m=\u001b[39m\u001b[38;5;28;01mNone\u001b[39;00m)\n\u001b[1;32m----> 5\u001b[0m     sex \u001b[38;5;241m=\u001b[39m st\u001b[38;5;241m.\u001b[39mselectbox(\u001b[38;5;124m\"\u001b[39m\u001b[38;5;124mSex\u001b[39m\u001b[38;5;124m\"\u001b[39m, options\u001b[38;5;241m=\u001b[39m[\u001b[38;5;241m0\u001b[39m, \u001b[38;5;241m1\u001b[39m], format_func\u001b[38;5;241m=\u001b[39m\u001b[38;5;28;01mlambda\u001b[39;00m x: \u001b[38;5;124m\"\u001b[39m\u001b[38;5;124mMale\u001b[39m\u001b[38;5;124m\"\u001b[39m \u001b[38;5;28;01mif\u001b[39;00m x \u001b[38;5;241m==\u001b[39m \u001b[38;5;241m1\u001b[39m \u001b[38;5;28;01melse\u001b[39;00m \u001b[38;5;124m\"\u001b[39m\u001b[38;5;124mFemale\u001b[39m\u001b[38;5;124m\"\u001b[39m,value\u001b[38;5;241m=\u001b[39m\u001b[38;5;28;01mNone\u001b[39;00m)\n\u001b[0;32m      6\u001b[0m     cp \u001b[38;5;241m=\u001b[39m st\u001b[38;5;241m.\u001b[39mselectbox(\u001b[38;5;124m\"\u001b[39m\u001b[38;5;124mChest Pain Type (cp)\u001b[39m\u001b[38;5;124m\"\u001b[39m, options\u001b[38;5;241m=\u001b[39m[\u001b[38;5;241m0\u001b[39m, \u001b[38;5;241m1\u001b[39m, \u001b[38;5;241m2\u001b[39m, \u001b[38;5;241m3\u001b[39m],value\u001b[38;5;241m=\u001b[39m\u001b[38;5;28;01mNone\u001b[39;00m)\n\u001b[0;32m      7\u001b[0m     trestbps \u001b[38;5;241m=\u001b[39m st\u001b[38;5;241m.\u001b[39mnumber_input(\u001b[38;5;124m\"\u001b[39m\u001b[38;5;124mResting Blood Pressure (trestbps)\u001b[39m\u001b[38;5;124m\"\u001b[39m, min_value\u001b[38;5;241m=\u001b[39m\u001b[38;5;241m80\u001b[39m, max_value\u001b[38;5;241m=\u001b[39m\u001b[38;5;241m200\u001b[39m, value\u001b[38;5;241m=\u001b[39m\u001b[38;5;28;01mNone\u001b[39;00m)\n",
      "File \u001b[1;32mD:\\Python\\Lib\\site-packages\\streamlit\\runtime\\metrics_util.py:397\u001b[0m, in \u001b[0;36mgather_metrics.<locals>.wrapped_func\u001b[1;34m(*args, **kwargs)\u001b[0m\n\u001b[0;32m    395\u001b[0m         _LOGGER\u001b[38;5;241m.\u001b[39mdebug(\u001b[38;5;124m\"\u001b[39m\u001b[38;5;124mFailed to collect command telemetry\u001b[39m\u001b[38;5;124m\"\u001b[39m, exc_info\u001b[38;5;241m=\u001b[39mex)\n\u001b[0;32m    396\u001b[0m \u001b[38;5;28;01mtry\u001b[39;00m:\n\u001b[1;32m--> 397\u001b[0m     result \u001b[38;5;241m=\u001b[39m non_optional_func(\u001b[38;5;241m*\u001b[39margs, \u001b[38;5;241m*\u001b[39m\u001b[38;5;241m*\u001b[39mkwargs)\n\u001b[0;32m    398\u001b[0m \u001b[38;5;28;01mexcept\u001b[39;00m RerunException \u001b[38;5;28;01mas\u001b[39;00m ex:\n\u001b[0;32m    399\u001b[0m     \u001b[38;5;66;03m# Duplicated from below, because static analysis tools get confused\u001b[39;00m\n\u001b[0;32m    400\u001b[0m     \u001b[38;5;66;03m# by deferring the rethrow.\u001b[39;00m\n\u001b[0;32m    401\u001b[0m     \u001b[38;5;28;01mif\u001b[39;00m tracking_activated \u001b[38;5;129;01mand\u001b[39;00m command_telemetry:\n",
      "\u001b[1;31mTypeError\u001b[0m: SelectboxMixin.selectbox() got an unexpected keyword argument 'value'"
     ]
    }
   ],
   "source": [
    "col1, col2 = st.columns(2)\n",
    "\n",
    "with col1:\n",
    "    age = st.number_input(\"Age\", min_value=20, max_value=100, value=None)\n",
    "    sex = st.selectbox(\"Sex\", options=[0, 1], format_func=lambda x: \"Male\" if x == 1 else \"Female\",value=None)\n",
    "    cp = st.selectbox(\"Chest Pain Type (cp)\", options=[0, 1, 2, 3],value=None)\n",
    "    trestbps = st.number_input(\"Resting Blood Pressure (trestbps)\", min_value=80, max_value=200, value=None)\n",
    "    chol = st.number_input(\"Serum Cholesterol (chol)\", min_value=100, max_value=600, value=None)\n",
    "    fbs = st.selectbox(\"Fasting Blood Sugar > 120 mg/dl (fbs)\", options=[0, 1], format_func=lambda x: \"Yes\" if x == 1 else \"No\",value=None)\n",
    "\n",
    "with col2:\n",
    "    restecg = st.selectbox(\"Resting ECG Results (restecg)\", options=[0, 1, 2],value=None)\n",
    "    thalach = st.number_input(\"Maximum Heart Rate (thalach)\", min_value=70, max_value=220, value=None)\n",
    "    exang = st.selectbox(\"Exercise Induced Angina (exang)\", options=[0, 1], format_func=lambda x: \"Yes\" if x == 1 else \"No\",value=None)\n",
    "    oldpeak = st.number_input(\"ST Depression (oldpeak)\", min_value=0.0, max_value=6.0, value=None, step=0.1)\n",
    "    slope = st.selectbox(\"Slope of ST Segment (slope)\", options=[0, 1, 2],value=None)\n",
    "    ca = st.selectbox(\"Number of Major Vessels (ca)\", options=[0, 1, 2, 3, 4],value=None)\n",
    "    thal = st.selectbox(\"Thalassemia (thal)\", options=[0, 1, 2, 3],value=None)"
   ]
  },
  {
   "cell_type": "code",
   "execution_count": 6,
   "id": "3d7fcfc9-b4b6-4cd6-a5b6-1881b5155ab8",
   "metadata": {},
   "outputs": [],
   "source": [
    "# 3. Make Prediction"
   ]
  },
  {
   "cell_type": "code",
   "execution_count": 7,
   "id": "e4d0d9da-c949-4001-a13d-97d98f0587ba",
   "metadata": {},
   "outputs": [
    {
     "data": {
      "text/plain": [
       "DeltaGenerator()"
      ]
     },
     "execution_count": 7,
     "metadata": {},
     "output_type": "execute_result"
    }
   ],
   "source": [
    "if st.button(\"🔍 Predict\"):\n",
    "    input_data = np.array([[age, sex, cp, trestbps, chol, fbs, restecg, thalach,\n",
    "                            exang, oldpeak, slope, ca, thal]])\n",
    "    prediction = model.predict(input_data)[0]\n",
    "\n",
    "    if prediction == 1:\n",
    "        st.error(\"⚠️ The model predicts **Heart Disease (Positive)**. Please consult a doctor.\")\n",
    "    else:\n",
    "        st.success(\"✅ The model predicts **No Heart Disease (Negative)**. You seem safe!\")\n",
    "\n",
    "st.write(\"---\")\n",
    "st.caption(\"Powered by Machine Learning | Built with Streamlit\")"
   ]
  },
  {
   "cell_type": "code",
   "execution_count": null,
   "id": "d9c87e40-a1db-47ee-b06b-037452221232",
   "metadata": {},
   "outputs": [],
   "source": []
  }
 ],
 "metadata": {
  "kernelspec": {
   "display_name": "Python 3 (ipykernel)",
   "language": "python",
   "name": "python3"
  },
  "language_info": {
   "codemirror_mode": {
    "name": "ipython",
    "version": 3
   },
   "file_extension": ".py",
   "mimetype": "text/x-python",
   "name": "python",
   "nbconvert_exporter": "python",
   "pygments_lexer": "ipython3",
   "version": "3.12.3"
  }
 },
 "nbformat": 4,
 "nbformat_minor": 5
}
